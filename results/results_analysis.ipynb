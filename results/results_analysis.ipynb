{
 "cells": [
  {
   "cell_type": "code",
   "execution_count": 1,
   "metadata": {},
   "outputs": [],
   "source": [
    "import os\n",
    "\n",
    "from rdflib import Graph"
   ]
  },
  {
   "cell_type": "code",
   "execution_count": null,
   "metadata": {},
   "outputs": [],
   "source": [
    "llm_text2owl_graph = Graph()\n",
    "llm_text2owl_graph.parse(os.path.join(os.getenv(\"RESULTS_PATH\"), \"llm_text_to_owl\", \"llm_owl_pizza_onto_eswc2024.ttl\"))\n",
    "\n",
    "olaf_llm_graph = Graph()\n",
    "olaf_llm_graph.parse(os.path.join(os.getenv(\"RESULTS_PATH\"), \"llm_pipeline\", \"llm_pipeline_kr_rdf_graph_eswc2024.ttl\"))\n",
    "\n",
    "olaf_no_llm_graph = Graph()\n",
    "olaf_no_llm_graph.parse(os.path.join(os.getenv(\"RESULTS_PATH\"), \"no_llm_pipeline\", \"no_llm_pipeline_kr_rdf_graph_eswc2024.ttl\"))"
   ]
  }
 ],
 "metadata": {
  "kernelspec": {
   "display_name": "olaf-eswc-venv",
   "language": "python",
   "name": "python3"
  },
  "language_info": {
   "codemirror_mode": {
    "name": "ipython",
    "version": 3
   },
   "file_extension": ".py",
   "mimetype": "text/x-python",
   "name": "python",
   "nbconvert_exporter": "python",
   "pygments_lexer": "ipython3",
   "version": "3.10.4"
  }
 },
 "nbformat": 4,
 "nbformat_minor": 2
}
