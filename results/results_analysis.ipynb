{
 "cells": [
  {
   "cell_type": "markdown",
   "metadata": {},
   "source": [
    "# On the pertinence of LLMs for ontology learning: results analysis\n",
    "\n",
    "This notebook contains the functions we used to construct our results. \n",
    "We try to automate as much as possible our analysis, particularly leveraging some SPARQL queries.\n",
    "However, human are still needed to align the ontologies constructed with our base one, i.e., the pizza ontology.\n",
    "\n",
    "In particular, we needed to align the ontologies independently of the exact labels.\n",
    "Hence, to help us in this endeavour, we used a basic textual distance on the labels or end of the URI if no label were available.\n",
    "In the end, the counting was done manually. "
   ]
  },
  {
   "cell_type": "markdown",
   "metadata": {},
   "source": [
    "## Notebook setup"
   ]
  },
  {
   "cell_type": "code",
   "execution_count": 1,
   "metadata": {},
   "outputs": [],
   "source": [
    "import os\n",
    "\n",
    "from rapidfuzz import process, fuzz\n",
    "from rdflib import Graph, BNode\n",
    "from rdflib.namespace import Namespace\n",
    "\n",
    "import pandas as pd"
   ]
  },
  {
   "cell_type": "code",
   "execution_count": 2,
   "metadata": {},
   "outputs": [],
   "source": [
    "# Define some namespaces to ease the URIs manipulation and visualisation\n",
    "\n",
    "olaf_eswc_ns = Namespace(\"https://github.com/wikit-ai/olaf-llm-eswc2024/o/example#\")\n",
    "pizza_onto_ns = Namespace(\"http://www.co-ode.org/ontologies/pizza/pizza.owl#\")\n",
    "\n",
    "olaf_eswc_ns_bindings = {\n",
    "    \"olaf-eswc\": olaf_eswc_ns,\n",
    "    \"pizza-onto\": pizza_onto_ns\n",
    "}"
   ]
  },
  {
   "cell_type": "code",
   "execution_count": 3,
   "metadata": {},
   "outputs": [
    {
     "data": {
      "text/plain": [
       "<Graph identifier=N57fab2182d72433eb47bcd7f13f8a0ea (<class 'rdflib.graph.Graph'>)>"
      ]
     },
     "execution_count": 3,
     "metadata": {},
     "output_type": "execute_result"
    }
   ],
   "source": [
    "# Load the different RDF graphs\n",
    "\n",
    "pizza_onto_graph = Graph()\n",
    "pizza_onto_graph.parse(os.path.join(os.getenv(\"DATA_PATH\"), \"pizza_onto_ground_truth.ttl\"))\n",
    "\n",
    "llm_text2owl_graph = Graph()\n",
    "llm_text2owl_graph.parse(os.path.join(os.getenv(\"RESULTS_PATH\"), \"llm_text_to_owl\", \"llm_owl_pizza_onto_eswc2024.ttl\"))\n",
    "\n",
    "olaf_llm_graph = Graph()\n",
    "olaf_llm_graph.parse(os.path.join(os.getenv(\"RESULTS_PATH\"), \"llm_pipeline\", \"llm_pipeline_kr_rdf_graph_eswc2024.ttl\"))\n",
    "\n",
    "olaf_no_llm_graph = Graph()\n",
    "olaf_no_llm_graph.parse(os.path.join(os.getenv(\"RESULTS_PATH\"), \"no_llm_pipeline\", \"no_llm_pipeline_kr_rdf_graph_eswc2024.ttl\"))"
   ]
  },
  {
   "cell_type": "markdown",
   "metadata": {},
   "source": [
    "## SPARQL tools"
   ]
  },
  {
   "cell_type": "code",
   "execution_count": 4,
   "metadata": {},
   "outputs": [],
   "source": [
    "# Some SPARQL queries we use for our analysis\n",
    "\n",
    "owl_classes_sparql_q = \"\"\"\n",
    "            SELECT DISTINCT ?class WHERE {\n",
    "                ?class rdf:type owl:Class .\n",
    "            }\n",
    "        \"\"\"\n",
    "\n",
    "owl_classes_labels_sparql_q = \"\"\"\n",
    "            SELECT ?label WHERE {\n",
    "                ?class rdf:type owl:Class ;\n",
    "                        rdfs:label ?label .\n",
    "            }\n",
    "        \"\"\"\n",
    "\n",
    "owl_classes_en_labels_sparql_q = \"\"\"\n",
    "            SELECT ?label WHERE {\n",
    "                ?class rdf:type owl:Class ;\n",
    "                        rdfs:label ?label .\n",
    "                FILTER(LANG(?label) = \"en\").\n",
    "            }\n",
    "        \"\"\"\n",
    "\n",
    "owl_obj_props_sparql_q = \"\"\"\n",
    "            SELECT DISTINCT ?prop WHERE {\n",
    "                ?prop rdf:type owl:ObjectProperty .\n",
    "            }\n",
    "        \"\"\"\n",
    "\n",
    "owl_named_individuals_sparql_q = \"\"\"\n",
    "            SELECT DISTINCT ?ind WHERE {\n",
    "                ?ind rdf:type owl:NamedIndividual .\n",
    "            }\n",
    "        \"\"\"\n",
    "\n",
    "owl_named_ind_from_obj_props_sparql_q = \"\"\"\n",
    "            SELECT DISTINCT ?ind WHERE {\n",
    "                {\n",
    "                    ?prop rdf:type owl:ObjectProperty .\n",
    "                    ?ind ?prop ?o .\n",
    "                }\n",
    "                UNION\n",
    "                {\n",
    "                    ?prop rdf:type owl:ObjectProperty .\n",
    "                    ?s ?prop ?ind .\n",
    "                }\n",
    "                UNION\n",
    "                {\n",
    "                    ?ind rdf:type ?class .\n",
    "                    ?class rdf:type owl:Class .\n",
    "                }\n",
    "                UNION\n",
    "                {\n",
    "                    ?ind rdf:type owl:NamedIndividual .\n",
    "                }\n",
    "            }\n",
    "        \"\"\"\n",
    "\n",
    "owl_named_classes_ind_from_obj_props_sparql_q = \"\"\"\n",
    "            SELECT DISTINCT ?ind WHERE {\n",
    "                {\n",
    "                    ?prop rdf:type owl:ObjectProperty .\n",
    "                    ?ind ?prop ?o .\n",
    "                }\n",
    "                UNION\n",
    "                {\n",
    "                    ?prop rdf:type owl:ObjectProperty .\n",
    "                    ?s ?prop ?ind .\n",
    "                }\n",
    "                UNION\n",
    "                {\n",
    "                    ?ind rdf:type ?class .\n",
    "                    ?class rdf:type owl:Class .\n",
    "                }\n",
    "                UNION\n",
    "                {\n",
    "                    ?ind rdf:type owl:NamedIndividual .\n",
    "                }\n",
    "                UNION\n",
    "                {\n",
    "                    ?ind rdf:type owl:Class .\n",
    "                }\n",
    "            }\n",
    "        \"\"\"\n",
    "\n",
    "rdfs_subclassof_tuples_sparql_q = \"\"\"\n",
    "            SELECT DISTINCT ?child ?parent WHERE {\n",
    "                ?child rdfs:subClassOf ?parent .\n",
    "            }\n",
    "        \"\"\""
   ]
  },
  {
   "cell_type": "code",
   "execution_count": 5,
   "metadata": {},
   "outputs": [],
   "source": [
    "def get_sparql_q_res_fragments_skip_bnodes(sparql_q: str, graph: Graph, ns: dict[str, Namespace]) -> set[tuple]:\n",
    "    \"\"\"Run a SPARQL query over an RDF graph and return the URIs fragments skipping blank nodes.\n",
    "\n",
    "    Parameters\n",
    "    ----------\n",
    "    sparql_q : str\n",
    "        The SPARQL query.\n",
    "    graph : Graph\n",
    "        The RDF graph.\n",
    "    ns : dict[str, Namespace]\n",
    "        Namespaces to use to extract URIs fragments (i.e., end).\n",
    "\n",
    "    Returns\n",
    "    -------\n",
    "    set[tuple]\n",
    "        The results.\n",
    "    \"\"\"\n",
    "    q_res = graph.query(sparql_q, initNs=ns)\n",
    "    \n",
    "    fragments = set()\n",
    "    for res in q_res:\n",
    "        t = []\n",
    "        for item in res:\n",
    "            if not isinstance(item, BNode):\n",
    "                t.append(item.fragment)\n",
    "        fragments.add(tuple(t))\n",
    "\n",
    "    return fragments"
   ]
  },
  {
   "cell_type": "code",
   "execution_count": 6,
   "metadata": {},
   "outputs": [],
   "source": [
    "def get_sparql_q_label_res(sparql_q: str, graph: Graph, ns: dict[str, Namespace]) -> set[tuple]:\n",
    "    \"\"\"Run a SPARQL query over an RDF graph and return the URIs labels.\n",
    "\n",
    "    The SPARQL query must return labels, i.e., strings.\n",
    "\n",
    "    Parameters\n",
    "    ----------\n",
    "    sparql_q : str\n",
    "        The SPARQL query.\n",
    "    graph : Graph\n",
    "        The RDF graph.\n",
    "    ns : dict[str, Namespace]\n",
    "        Namespaces to use to extract URIs fragments (i.e., end).\n",
    "\n",
    "    Returns\n",
    "    -------\n",
    "    set[tuple]\n",
    "        The results.\n",
    "    \"\"\"\n",
    "    q_res = graph.query(sparql_q, initNs=ns)\n",
    "\n",
    "    labels = {str(res[0]) for res in q_res}\n",
    "\n",
    "    return labels"
   ]
  },
  {
   "cell_type": "code",
   "execution_count": 7,
   "metadata": {},
   "outputs": [],
   "source": [
    "def get_sparql_q_tuple_res(sparql_q: str, graph: Graph, ns: dict[str, Namespace]) -> set[tuple]:\n",
    "    \"\"\"Run a SPARQL query over an RDF graph and return the URIs labels.\n",
    "\n",
    "    The SPARQL query must return labels, i.e., strings.\n",
    "\n",
    "    Parameters\n",
    "    ----------\n",
    "    sparql_q : str\n",
    "        The SPARQL query.\n",
    "    graph : Graph\n",
    "        The RDF graph.\n",
    "    ns : dict[str, Namespace]\n",
    "        Namespaces to use to extract URIs fragments (i.e., end).\n",
    "\n",
    "    Returns\n",
    "    -------\n",
    "    set[tuple]\n",
    "        The results.\n",
    "    \"\"\"\n",
    "    q_res = graph.query(sparql_q, initNs=ns)\n",
    "\n",
    "    labels = {(str(res[0]), str(res[1])) for res in q_res}\n",
    "\n",
    "    return labels"
   ]
  },
  {
   "cell_type": "markdown",
   "metadata": {},
   "source": [
    "## Ontologies overview"
   ]
  },
  {
   "cell_type": "code",
   "execution_count": 8,
   "metadata": {},
   "outputs": [],
   "source": [
    "# Extract ontology components\n",
    "\n",
    "llm_text2owl_g_classes = get_sparql_q_res_fragments_skip_bnodes(sparql_q=owl_classes_sparql_q, graph=llm_text2owl_graph, ns=olaf_eswc_ns_bindings)\n",
    "olaf_llm_g_classes = get_sparql_q_res_fragments_skip_bnodes(sparql_q=owl_classes_sparql_q, graph=olaf_llm_graph, ns=olaf_eswc_ns_bindings)\n",
    "olaf_no_llm_g_classes = get_sparql_q_res_fragments_skip_bnodes(sparql_q=owl_classes_sparql_q, graph=olaf_no_llm_graph, ns=olaf_eswc_ns_bindings)\n",
    "pizza_onto_g_classes = get_sparql_q_res_fragments_skip_bnodes(sparql_q=owl_classes_sparql_q, graph=pizza_onto_graph, ns=olaf_eswc_ns_bindings)\n",
    "\n",
    "llm_text2owl_g_props = get_sparql_q_res_fragments_skip_bnodes(sparql_q=owl_obj_props_sparql_q, graph=llm_text2owl_graph, ns=olaf_eswc_ns_bindings)\n",
    "olaf_llm_g_props = get_sparql_q_res_fragments_skip_bnodes(sparql_q=owl_obj_props_sparql_q, graph=olaf_llm_graph, ns=olaf_eswc_ns_bindings)\n",
    "olaf_no_llm_g_props = get_sparql_q_res_fragments_skip_bnodes(sparql_q=owl_obj_props_sparql_q, graph=olaf_no_llm_graph, ns=olaf_eswc_ns_bindings)\n",
    "pizza_onto_g_props = get_sparql_q_res_fragments_skip_bnodes(sparql_q=owl_obj_props_sparql_q, graph=pizza_onto_graph, ns=olaf_eswc_ns_bindings)\n",
    "\n",
    "llm_text2owl_g_individuals = get_sparql_q_res_fragments_skip_bnodes(sparql_q=owl_named_individuals_sparql_q, graph=llm_text2owl_graph, ns=olaf_eswc_ns_bindings)\n",
    "olaf_llm_g_individuals = get_sparql_q_res_fragments_skip_bnodes(sparql_q=owl_named_individuals_sparql_q, graph=olaf_llm_graph, ns=olaf_eswc_ns_bindings)\n",
    "olaf_no_llm_g_individuals = get_sparql_q_res_fragments_skip_bnodes(sparql_q=owl_named_individuals_sparql_q, graph=olaf_no_llm_graph, ns=olaf_eswc_ns_bindings)\n",
    "pizza_onto_g_individuals = get_sparql_q_res_fragments_skip_bnodes(sparql_q=owl_named_individuals_sparql_q, graph=pizza_onto_graph, ns=olaf_eswc_ns_bindings)\n",
    "\n",
    "llm_text2owl_g_individuals_from_props = get_sparql_q_res_fragments_skip_bnodes(sparql_q=owl_named_ind_from_obj_props_sparql_q, graph=llm_text2owl_graph, ns=olaf_eswc_ns_bindings)\n",
    "olaf_llm_g_individuals_from_props = get_sparql_q_res_fragments_skip_bnodes(sparql_q=owl_named_ind_from_obj_props_sparql_q, graph=olaf_llm_graph, ns=olaf_eswc_ns_bindings)\n",
    "olaf_no_llm_g_individuals_from_props = get_sparql_q_res_fragments_skip_bnodes(sparql_q=owl_named_ind_from_obj_props_sparql_q, graph=olaf_no_llm_graph, ns=olaf_eswc_ns_bindings)\n",
    "pizza_onto_g_individuals_from_props = get_sparql_q_res_fragments_skip_bnodes(sparql_q=owl_named_ind_from_obj_props_sparql_q, graph=pizza_onto_graph, ns=olaf_eswc_ns_bindings)\n",
    "\n",
    "llm_text2owl_g_subclassof_t = get_sparql_q_res_fragments_skip_bnodes(sparql_q=rdfs_subclassof_tuples_sparql_q, graph=llm_text2owl_graph, ns=olaf_eswc_ns_bindings)\n",
    "olaf_llm_g_subclassof_t = get_sparql_q_res_fragments_skip_bnodes(sparql_q=rdfs_subclassof_tuples_sparql_q, graph=olaf_llm_graph, ns=olaf_eswc_ns_bindings)\n",
    "olaf_no_llm_g_subclassof_t = get_sparql_q_res_fragments_skip_bnodes(sparql_q=rdfs_subclassof_tuples_sparql_q, graph=olaf_no_llm_graph, ns=olaf_eswc_ns_bindings)\n",
    "pizza_onto_g_subclassof_t = get_sparql_q_res_fragments_skip_bnodes(sparql_q=rdfs_subclassof_tuples_sparql_q, graph=pizza_onto_graph, ns=olaf_eswc_ns_bindings)"
   ]
  },
  {
   "cell_type": "code",
   "execution_count": 9,
   "metadata": {},
   "outputs": [],
   "source": [
    "# Construct the counts table for visualisation\n",
    "\n",
    "onto_overview = {\n",
    "    \"Count\": [\n",
    "        \"OWL named classes\", \n",
    "        \"OWL object properties\", \n",
    "        \"OWL named individuals\", \n",
    "        \"OWL named individuals from object properties\", \n",
    "        \"RDFS subClassOf tuples\"\n",
    "    ],\n",
    "    \"Pizza Ontology\": [\n",
    "        len(pizza_onto_g_classes), \n",
    "        len(pizza_onto_g_props), \n",
    "        len(pizza_onto_g_individuals), \n",
    "        len(pizza_onto_g_individuals_from_props), \n",
    "        len(pizza_onto_g_subclassof_t)\n",
    "    ],\n",
    "    \"Text to OWL\": [\n",
    "        len(llm_text2owl_g_classes), \n",
    "        len(llm_text2owl_g_props), \n",
    "        len(llm_text2owl_g_individuals), \n",
    "        len(llm_text2owl_g_individuals_from_props), \n",
    "        len(llm_text2owl_g_subclassof_t)\n",
    "    ],\n",
    "    \"OLAF LLM\": [\n",
    "        len(olaf_llm_g_classes), \n",
    "        len(olaf_llm_g_props), \n",
    "        len(olaf_llm_g_individuals), \n",
    "        len(olaf_llm_g_individuals_from_props), \n",
    "        len(olaf_llm_g_subclassof_t)\n",
    "    ],\n",
    "    \"OLAF no LLM\": [\n",
    "        len(olaf_no_llm_g_classes), \n",
    "        len(olaf_no_llm_g_props), \n",
    "        len(olaf_no_llm_g_individuals), \n",
    "        len(olaf_no_llm_g_individuals_from_props), \n",
    "        len(olaf_no_llm_g_subclassof_t)\n",
    "    ]\n",
    "}\n",
    "\n",
    "df_overview = pd.DataFrame(onto_overview)"
   ]
  },
  {
   "cell_type": "code",
   "execution_count": 10,
   "metadata": {},
   "outputs": [
    {
     "data": {
      "text/html": [
       "<div>\n",
       "<style scoped>\n",
       "    .dataframe tbody tr th:only-of-type {\n",
       "        vertical-align: middle;\n",
       "    }\n",
       "\n",
       "    .dataframe tbody tr th {\n",
       "        vertical-align: top;\n",
       "    }\n",
       "\n",
       "    .dataframe thead th {\n",
       "        text-align: right;\n",
       "    }\n",
       "</style>\n",
       "<table border=\"1\" class=\"dataframe\">\n",
       "  <thead>\n",
       "    <tr style=\"text-align: right;\">\n",
       "      <th></th>\n",
       "      <th>Count</th>\n",
       "      <th>Pizza Ontology</th>\n",
       "      <th>Text to OWL</th>\n",
       "      <th>OLAF LLM</th>\n",
       "      <th>OLAF no LLM</th>\n",
       "    </tr>\n",
       "  </thead>\n",
       "  <tbody>\n",
       "    <tr>\n",
       "      <th>0</th>\n",
       "      <td>OWL named classes</td>\n",
       "      <td>97</td>\n",
       "      <td>36</td>\n",
       "      <td>99</td>\n",
       "      <td>111</td>\n",
       "    </tr>\n",
       "    <tr>\n",
       "      <th>1</th>\n",
       "      <td>OWL object properties</td>\n",
       "      <td>8</td>\n",
       "      <td>2</td>\n",
       "      <td>77</td>\n",
       "      <td>22</td>\n",
       "    </tr>\n",
       "    <tr>\n",
       "      <th>2</th>\n",
       "      <td>OWL named individuals</td>\n",
       "      <td>5</td>\n",
       "      <td>0</td>\n",
       "      <td>0</td>\n",
       "      <td>343</td>\n",
       "    </tr>\n",
       "    <tr>\n",
       "      <th>3</th>\n",
       "      <td>OWL named individuals from object properties</td>\n",
       "      <td>5</td>\n",
       "      <td>27</td>\n",
       "      <td>97</td>\n",
       "      <td>343</td>\n",
       "    </tr>\n",
       "    <tr>\n",
       "      <th>4</th>\n",
       "      <td>RDFS subClassOf tuples</td>\n",
       "      <td>141</td>\n",
       "      <td>33</td>\n",
       "      <td>114</td>\n",
       "      <td>390</td>\n",
       "    </tr>\n",
       "  </tbody>\n",
       "</table>\n",
       "</div>"
      ],
      "text/plain": [
       "                                          Count  Pizza Ontology  Text to OWL  \\\n",
       "0                             OWL named classes              97           36   \n",
       "1                         OWL object properties               8            2   \n",
       "2                         OWL named individuals               5            0   \n",
       "3  OWL named individuals from object properties               5           27   \n",
       "4                        RDFS subClassOf tuples             141           33   \n",
       "\n",
       "   OLAF LLM  OLAF no LLM  \n",
       "0        99          111  \n",
       "1        77           22  \n",
       "2         0          343  \n",
       "3        97          343  \n",
       "4       114          390  "
      ]
     },
     "execution_count": 10,
     "metadata": {},
     "output_type": "execute_result"
    }
   ],
   "source": [
    "df_overview"
   ]
  },
  {
   "cell_type": "markdown",
   "metadata": {},
   "source": [
    "## Ontologies evaluation"
   ]
  },
  {
   "cell_type": "markdown",
   "metadata": {},
   "source": [
    "Classes"
   ]
  },
  {
   "cell_type": "code",
   "execution_count": 11,
   "metadata": {},
   "outputs": [],
   "source": [
    "pizza_onto_class_labels = get_sparql_q_label_res(sparql_q=owl_classes_en_labels_sparql_q, graph=pizza_onto_graph, ns=olaf_eswc_ns_bindings)\n",
    "pizza_onto_class_labels = {label.lower().replace(\" \", \"\") for label in pizza_onto_class_labels}"
   ]
  },
  {
   "cell_type": "code",
   "execution_count": 12,
   "metadata": {},
   "outputs": [],
   "source": [
    "llm_text2owl_class_labels = get_sparql_q_label_res(sparql_q=owl_classes_labels_sparql_q, graph=llm_text2owl_graph, ns=olaf_eswc_ns_bindings)\n",
    "llm_text2owl_class_labels = list({label.lower().replace(\" \", \"\") for label in llm_text2owl_class_labels})\n",
    "\n",
    "# Uncomment this to visualise the string alignments\n",
    "# for true_label in pizza_onto_class_labels:\n",
    "#     res = process.extract(true_label, llm_text2owl_class_labels, scorer=fuzz.WRatio, limit=3)\n",
    "#     print(f\"{true_label} :  {res[0][0]} ({res[0][1]}), {res[1][0]} ({res[1][1]}), {res[2][0]} ({res[2][1]})\") \n",
    "    "
   ]
  },
  {
   "cell_type": "code",
   "execution_count": 13,
   "metadata": {},
   "outputs": [],
   "source": [
    "common_classes_pizza_text2owl=36"
   ]
  },
  {
   "cell_type": "code",
   "execution_count": 14,
   "metadata": {},
   "outputs": [],
   "source": [
    "olaf_llm_class_labels = get_sparql_q_label_res(sparql_q=owl_classes_sparql_q, graph=olaf_llm_graph, ns=olaf_eswc_ns_bindings)\n",
    "olaf_llm_class_labels = list({label.lower().replace(\"https://github.com/wikit-ai/olaf-llm-eswc2024/o/example#\", \"\") for label in olaf_llm_class_labels})\n",
    "\n",
    "# Uncomment this to visualise the string alignments\n",
    "# for true_label in pizza_onto_class_labels:\n",
    "#     res = process.extract(true_label, olaf_llm_class_labels, scorer=fuzz.WRatio, limit=3)\n",
    "#     print(f\"{true_label} :  {res[0][0]} ({res[0][1]}), {res[1][0]} ({res[1][1]}), {res[2][0]} ({res[2][1]})\") \n",
    "    "
   ]
  },
  {
   "cell_type": "code",
   "execution_count": 15,
   "metadata": {},
   "outputs": [],
   "source": [
    "common_classes_pizza_olaf_llm=55"
   ]
  },
  {
   "cell_type": "code",
   "execution_count": 16,
   "metadata": {},
   "outputs": [],
   "source": [
    "olaf_no_llm_class_labels = get_sparql_q_label_res(sparql_q=owl_classes_labels_sparql_q, graph=olaf_no_llm_graph, ns=olaf_eswc_ns_bindings)\n",
    "olaf_no_llm_class_labels = list({label.lower().replace(\" \", \"\") for label in olaf_no_llm_class_labels})\n",
    "\n",
    "# Uncomment this to visualise the string alignments\n",
    "# for true_label in pizza_onto_class_labels:\n",
    "#     res = process.extract(true_label, olaf_no_llm_class_labels, scorer=fuzz.WRatio, limit=3)\n",
    "#     print(f\"{true_label} :  {res[0][0]} ({res[0][1]}), {res[1][0]} ({res[1][1]}), {res[2][0]} ({res[2][1]})\") \n",
    "    "
   ]
  },
  {
   "cell_type": "code",
   "execution_count": 17,
   "metadata": {},
   "outputs": [],
   "source": [
    "common_classes_pizza_olaf_no_llm=43"
   ]
  },
  {
   "cell_type": "markdown",
   "metadata": {},
   "source": [
    "Individuals"
   ]
  },
  {
   "cell_type": "code",
   "execution_count": 18,
   "metadata": {},
   "outputs": [],
   "source": [
    "pizza_onto_ind_uri = get_sparql_q_label_res(sparql_q=owl_named_ind_from_obj_props_sparql_q, graph=pizza_onto_graph, ns=olaf_eswc_ns_bindings)\n",
    "pizza_onto_ind_uri = list({label.lower().replace(str(pizza_onto_ns), \"\") for label in pizza_onto_ind_uri})"
   ]
  },
  {
   "cell_type": "code",
   "execution_count": 19,
   "metadata": {},
   "outputs": [],
   "source": [
    "llm_text2owl_ind_uri = get_sparql_q_label_res(sparql_q=owl_named_ind_from_obj_props_sparql_q, graph=llm_text2owl_graph, ns=olaf_eswc_ns_bindings)\n",
    "llm_text2owl_ind_uri = list({label.lower().replace(str(olaf_eswc_ns), \"\") for label in llm_text2owl_ind_uri})\n",
    "\n",
    "# Uncomment this to visualise the string alignments\n",
    "# for true_label in pizza_onto_ind_uri:\n",
    "#     res = process.extract(true_label, llm_text2owl_ind_uri, scorer=fuzz.WRatio, limit=3)\n",
    "#     print(f\"{true_label} :  {res[0][0]} ({res[0][1]}), {res[1][0]} ({res[1][1]}), {res[2][0]} ({res[2][1]})\") \n",
    "    "
   ]
  },
  {
   "cell_type": "code",
   "execution_count": 20,
   "metadata": {},
   "outputs": [],
   "source": [
    "common_ind_pizza_text2owl=0"
   ]
  },
  {
   "cell_type": "code",
   "execution_count": 21,
   "metadata": {},
   "outputs": [],
   "source": [
    "olaf_llm_ind_uri = get_sparql_q_label_res(sparql_q=owl_named_ind_from_obj_props_sparql_q, graph=olaf_llm_graph, ns=olaf_eswc_ns_bindings)\n",
    "olaf_llm_ind_uri = list({label.lower().replace(str(olaf_eswc_ns), \"\") for label in olaf_llm_ind_uri})\n",
    "\n",
    "# Uncomment this to visualise the string alignments\n",
    "# for true_label in pizza_onto_ind_uri:\n",
    "#     res = process.extract(true_label, olaf_llm_ind_uri, scorer=fuzz.WRatio, limit=3)\n",
    "#     print(f\"{true_label} :  {res[0][0]} ({res[0][1]}), {res[1][0]} ({res[1][1]}), {res[2][0]} ({res[2][1]})\") "
   ]
  },
  {
   "cell_type": "code",
   "execution_count": 22,
   "metadata": {},
   "outputs": [],
   "source": [
    "common_ind_pizza_olaf_llm = 1"
   ]
  },
  {
   "cell_type": "code",
   "execution_count": 23,
   "metadata": {},
   "outputs": [],
   "source": [
    "olaf_no_llm_ind_uri = get_sparql_q_label_res(sparql_q=owl_named_ind_from_obj_props_sparql_q, graph=olaf_no_llm_graph, ns=olaf_eswc_ns_bindings)\n",
    "olaf_no_llm_ind_uri = list({label.lower().replace(str(olaf_eswc_ns), \"\") for label in olaf_no_llm_ind_uri})\n",
    "\n",
    "# Uncomment this to visualise the string alignments\n",
    "# for true_label in pizza_onto_ind_uri:\n",
    "#     res = process.extract(true_label, olaf_no_llm_ind_uri, scorer=fuzz.WRatio, limit=3)\n",
    "#     print(f\"{true_label} :  {res[0][0]} ({res[0][1]}), {res[1][0]} ({res[1][1]}), {res[2][0]} ({res[2][1]})\")"
   ]
  },
  {
   "cell_type": "code",
   "execution_count": 24,
   "metadata": {},
   "outputs": [],
   "source": [
    "common_ind_pizza_olaf_no_llm = 2"
   ]
  },
  {
   "cell_type": "markdown",
   "metadata": {},
   "source": [
    "Classes + indiviuals"
   ]
  },
  {
   "cell_type": "code",
   "execution_count": 25,
   "metadata": {},
   "outputs": [],
   "source": [
    "pizza_onto_classes_ind_uri = get_sparql_q_label_res(sparql_q=owl_named_classes_ind_from_obj_props_sparql_q, graph=pizza_onto_graph, ns=olaf_eswc_ns_bindings)\n",
    "pizza_onto_classes_ind_uri = list({label.lower().replace(str(pizza_onto_ns), \"\") for label in pizza_onto_classes_ind_uri})\n",
    "pizza_onto_classes_ind_uri = [uri for uri in pizza_onto_classes_ind_uri if not(uri[0:2]==\"nc\")]"
   ]
  },
  {
   "cell_type": "code",
   "execution_count": 26,
   "metadata": {},
   "outputs": [],
   "source": [
    "llm_text2owl_classes_ind_uri = get_sparql_q_label_res(sparql_q=owl_named_classes_ind_from_obj_props_sparql_q, graph=llm_text2owl_graph, ns=olaf_eswc_ns_bindings)\n",
    "llm_text2owl_classes_ind_uri = list({label.lower().replace(str(olaf_eswc_ns), \"\") for label in llm_text2owl_classes_ind_uri})\n",
    "\n",
    "# Uncomment this for loop to visualise the string alignments\n",
    "# for true_label in pizza_onto_classes_ind_uri:\n",
    "#     res = process.extract(true_label, llm_text2owl_classes_ind_uri, scorer=fuzz.WRatio, limit=3)\n",
    "#     print(f\"{true_label} :  {res[0][0]} ({res[0][1]}), {res[1][0]} ({res[1][1]}), {res[2][0]} ({res[2][1]})\") \n",
    "    "
   ]
  },
  {
   "cell_type": "code",
   "execution_count": 27,
   "metadata": {},
   "outputs": [],
   "source": [
    "common_classes_ind_pizza_text2owl=34"
   ]
  },
  {
   "cell_type": "code",
   "execution_count": 28,
   "metadata": {},
   "outputs": [],
   "source": [
    "olaf_llm_classes_ind_uri = get_sparql_q_label_res(sparql_q=owl_named_classes_ind_from_obj_props_sparql_q, graph=olaf_llm_graph, ns=olaf_eswc_ns_bindings)\n",
    "olaf_llm_classes_ind_uri = list({label.lower().replace(str(olaf_eswc_ns), \"\") for label in olaf_llm_classes_ind_uri})\n",
    "\n",
    "# Uncomment this for loop to visualise the string alignments\n",
    "# for true_label in pizza_onto_classes_ind_uri:\n",
    "#     res = process.extract(true_label, olaf_llm_classes_ind_uri, scorer=fuzz.WRatio, limit=3)\n",
    "#     print(f\"{true_label} :  {res[0][0]} ({res[0][1]}), {res[1][0]} ({res[1][1]}), {res[2][0]} ({res[2][1]})\") \n",
    "    "
   ]
  },
  {
   "cell_type": "code",
   "execution_count": 29,
   "metadata": {},
   "outputs": [],
   "source": [
    "common_classes_ind_pizza_olaf_llm=54"
   ]
  },
  {
   "cell_type": "code",
   "execution_count": 30,
   "metadata": {},
   "outputs": [],
   "source": [
    "olaf_no_llm_classes_ind_uri = get_sparql_q_label_res(sparql_q=owl_named_classes_ind_from_obj_props_sparql_q, graph=olaf_no_llm_graph, ns=olaf_eswc_ns_bindings)\n",
    "olaf_no_llm_classes_ind_uri = list({label.lower().replace(str(olaf_eswc_ns), \"\") for label in olaf_no_llm_classes_ind_uri})\n",
    "\n",
    "# Uncomment this for loop to visualise the string alignments\n",
    "# for true_label in pizza_onto_classes_ind_uri:\n",
    "#     res = process.extract(true_label, olaf_no_llm_classes_ind_uri, scorer=fuzz.WRatio, limit=3)\n",
    "#     print(f\"{true_label} :  {res[0][0]} ({res[0][1]}), {res[1][0]} ({res[1][1]}), {res[2][0]} ({res[2][1]})\") "
   ]
  },
  {
   "cell_type": "code",
   "execution_count": 31,
   "metadata": {},
   "outputs": [],
   "source": [
    "common_classes_ind_pizza_olaf_no_llm=59"
   ]
  },
  {
   "cell_type": "markdown",
   "metadata": {},
   "source": [
    "Object properties"
   ]
  },
  {
   "cell_type": "code",
   "execution_count": 32,
   "metadata": {},
   "outputs": [],
   "source": [
    "pizza_onto_obj_prop_uri = get_sparql_q_label_res(sparql_q=owl_obj_props_sparql_q, graph=pizza_onto_graph, ns=olaf_eswc_ns_bindings)\n",
    "pizza_onto_obj_prop_uri = list({label.lower().replace(str(pizza_onto_ns), \"\") for label in pizza_onto_obj_prop_uri})"
   ]
  },
  {
   "cell_type": "code",
   "execution_count": 33,
   "metadata": {},
   "outputs": [],
   "source": [
    "llm_text2owl_obj_prop_uri = get_sparql_q_label_res(sparql_q=owl_obj_props_sparql_q, graph=llm_text2owl_graph, ns=olaf_eswc_ns_bindings)\n",
    "llm_text2owl_obj_prop_uri = list({label.lower().replace(str(olaf_eswc_ns), \"\") for label in llm_text2owl_obj_prop_uri})\n",
    "\n",
    "# Uncomment this to visualise the string alignments\n",
    "# for true_label in pizza_onto_obj_prop_uri:\n",
    "#     res = process.extract(true_label, llm_text2owl_obj_prop_uri, scorer=fuzz.WRatio, limit=2)\n",
    "#     print(f\"{true_label} :  {res[0][0]} ({res[0][1]}), {res[1][0]} ({res[1][1]})\") \n",
    "    "
   ]
  },
  {
   "cell_type": "code",
   "execution_count": 34,
   "metadata": {},
   "outputs": [],
   "source": [
    "common_obj_prop_pizza_text2owl=2"
   ]
  },
  {
   "cell_type": "code",
   "execution_count": 35,
   "metadata": {},
   "outputs": [],
   "source": [
    "olaf_llm_obj_prop_uri = get_sparql_q_label_res(sparql_q=owl_obj_props_sparql_q, graph=olaf_llm_graph, ns=olaf_eswc_ns_bindings)\n",
    "olaf_llm_obj_prop_uri = list({label.lower().replace(str(olaf_eswc_ns), \"\") for label in olaf_llm_obj_prop_uri})\n",
    "\n",
    "# Uncomment this to visualise the string alignments\n",
    "# for true_label in pizza_onto_obj_prop_uri:\n",
    "#     res = process.extract(true_label, olaf_llm_obj_prop_uri, scorer=fuzz.WRatio, limit=3)\n",
    "#     print(f\"{true_label} :  {res[0][0]} ({res[0][1]}), {res[1][0]} ({res[1][1]}), {res[2][0]} ({res[2][1]})\") "
   ]
  },
  {
   "cell_type": "code",
   "execution_count": 36,
   "metadata": {},
   "outputs": [],
   "source": [
    "common_obj_prop_pizza_olaf_llm = 5"
   ]
  },
  {
   "cell_type": "code",
   "execution_count": 37,
   "metadata": {},
   "outputs": [],
   "source": [
    "olaf_no_llm_obj_prop_uri = get_sparql_q_label_res(sparql_q=owl_obj_props_sparql_q, graph=olaf_no_llm_graph, ns=olaf_eswc_ns_bindings)\n",
    "olaf_no_llm_obj_prop_uri = list({label.lower().replace(str(olaf_eswc_ns), \"\") for label in olaf_no_llm_obj_prop_uri})\n",
    "\n",
    "# Uncomment this to visualise the string alignments\n",
    "# for true_label in pizza_onto_obj_prop_uri:\n",
    "#     res = process.extract(true_label, olaf_no_llm_obj_prop_uri, scorer=fuzz.WRatio, limit=3)\n",
    "#     print(f\"{true_label} :  {res[0][0]} ({res[0][1]}), {res[1][0]} ({res[1][1]}), {res[2][0]} ({res[2][1]})\") "
   ]
  },
  {
   "cell_type": "code",
   "execution_count": 38,
   "metadata": {},
   "outputs": [],
   "source": [
    "common_obj_prop_pizza_olaf_no_llm = 3"
   ]
  },
  {
   "cell_type": "markdown",
   "metadata": {},
   "source": [
    "SubClassOf tuples"
   ]
  },
  {
   "cell_type": "code",
   "execution_count": 39,
   "metadata": {},
   "outputs": [],
   "source": [
    "pizza_onto_sub_uri = get_sparql_q_tuple_res(sparql_q=rdfs_subclassof_tuples_sparql_q, graph=pizza_onto_graph, ns=olaf_eswc_ns_bindings)\n",
    "pizza_onto_sub_uri = list({f\"{label[0].lower().replace(str(pizza_onto_ns), '')}#{label[1].lower().replace(str(pizza_onto_ns), '')}\" for label in pizza_onto_sub_uri if not(label[0][0:2]==\"nc\" or label[1][0:2]==\"nc\")})"
   ]
  },
  {
   "cell_type": "code",
   "execution_count": 40,
   "metadata": {},
   "outputs": [],
   "source": [
    "llm_text2owl_sub_uri = get_sparql_q_tuple_res(sparql_q=rdfs_subclassof_tuples_sparql_q, graph=llm_text2owl_graph, ns=olaf_eswc_ns_bindings)\n",
    "llm_text2owl_sub_uri = list({f\"{label[0].lower().replace(str(olaf_eswc_ns), '')}#{label[1].lower().replace(str(olaf_eswc_ns), '')}\" for label in llm_text2owl_sub_uri})\n",
    "\n",
    "# Uncomment this for loop to visualise the string alignments\n",
    "# for true_label in pizza_onto_sub_uri:\n",
    "#     res = process.extract(true_label, llm_text2owl_sub_uri, scorer=fuzz.WRatio, limit=3)\n",
    "#     print(f\"{true_label} :  {res[0][0]} ({res[0][1]}), {res[1][0]} ({res[1][1]}), {res[2][0]} ({res[2][1]})\") \n",
    "    "
   ]
  },
  {
   "cell_type": "code",
   "execution_count": 41,
   "metadata": {},
   "outputs": [],
   "source": [
    "common_sub_pizza_text2owl=17"
   ]
  },
  {
   "cell_type": "code",
   "execution_count": 42,
   "metadata": {},
   "outputs": [],
   "source": [
    "olaf_llm_sub_uri = get_sparql_q_tuple_res(sparql_q=rdfs_subclassof_tuples_sparql_q, graph=olaf_llm_graph, ns=olaf_eswc_ns_bindings)\n",
    "olaf_llm_sub_uri = list({f\"{label[0].lower().replace(str(olaf_eswc_ns), '')}#{label[1].lower().replace(str(olaf_eswc_ns), '')}\" for label in olaf_llm_sub_uri})\n",
    "\n",
    "# Uncomment this for loop to visualise the string alignments\n",
    "# for true_label in pizza_onto_sub_uri:\n",
    "#     res = process.extract(true_label, olaf_llm_sub_uri, scorer=fuzz.WRatio, limit=3)\n",
    "#     print(f\"{true_label} :  {res[0][0]} ({res[0][1]}), {res[1][0]} ({res[1][1]}), {res[2][0]} ({res[2][1]})\") \n",
    "    "
   ]
  },
  {
   "cell_type": "code",
   "execution_count": 43,
   "metadata": {},
   "outputs": [],
   "source": [
    "common_sub_pizza_olaf_llm=27"
   ]
  },
  {
   "cell_type": "code",
   "execution_count": 44,
   "metadata": {},
   "outputs": [],
   "source": [
    "olaf_no_llm_sub_uri = get_sparql_q_tuple_res(sparql_q=rdfs_subclassof_tuples_sparql_q, graph=olaf_no_llm_graph, ns=olaf_eswc_ns_bindings)\n",
    "olaf_no_llm_sub_uri = list({f\"{label[0].lower().replace(str(olaf_eswc_ns), '')}#{label[1].lower().replace(str(olaf_eswc_ns), '')}\" for label in olaf_no_llm_sub_uri})\n",
    "\n",
    "# Uncomment this for loop to visualise the string alignments\n",
    "# for true_label in pizza_onto_sub_uri:\n",
    "#     res = process.extract(true_label, olaf_no_llm_sub_uri, scorer=fuzz.WRatio, limit=3)\n",
    "#     print(f\"{true_label} :  {res[0][0]} ({res[0][1]}), {res[1][0]} ({res[1][1]}), {res[2][0]} ({res[2][1]})\") \n",
    "    "
   ]
  },
  {
   "cell_type": "code",
   "execution_count": 45,
   "metadata": {},
   "outputs": [],
   "source": [
    "common_sub_pizza_olaf_no_llm=6"
   ]
  },
  {
   "cell_type": "markdown",
   "metadata": {},
   "source": [
    "Results"
   ]
  },
  {
   "cell_type": "code",
   "execution_count": 46,
   "metadata": {},
   "outputs": [],
   "source": [
    "classes_precision_text2owl = common_classes_pizza_text2owl/len(llm_text2owl_class_labels)\n",
    "classes_precision_olafLLM =  common_classes_pizza_olaf_llm/len(olaf_llm_class_labels)\n",
    "classes_precision_olafNoLLM = common_classes_pizza_olaf_no_llm/len(olaf_no_llm_class_labels)\n",
    "  \n",
    "classes_recall_text2owl = common_classes_pizza_text2owl/len(pizza_onto_class_labels)\n",
    "classes_recall_olafLLM = common_classes_pizza_olaf_llm/len(pizza_onto_class_labels)\n",
    "classes_recall_olafNoLLM = common_classes_pizza_olaf_no_llm/len(pizza_onto_class_labels)\n",
    "\n",
    "individuals_precision_text2owl = common_ind_pizza_text2owl/len(llm_text2owl_ind_uri)\n",
    "individuals_precision_olafLLM =  common_ind_pizza_olaf_llm/len(olaf_llm_ind_uri)\n",
    "individuals_precision_olafNoLLM = common_ind_pizza_olaf_no_llm/len(olaf_no_llm_ind_uri)\n",
    "\n",
    "individuals_recall_text2owl = common_ind_pizza_text2owl/len(pizza_onto_ind_uri)\n",
    "individuals_recall_olafLLM = common_ind_pizza_olaf_llm/len(pizza_onto_ind_uri)\n",
    "individuals_recall_olafNoLLM = common_ind_pizza_olaf_no_llm/len(pizza_onto_ind_uri)\n",
    "\n",
    "classesAndIndividuals_precision_text2owl = common_classes_ind_pizza_text2owl/len(llm_text2owl_classes_ind_uri)\n",
    "classesAndIndividuals_precision_olafLLM = common_classes_ind_pizza_olaf_llm/len(olaf_llm_classes_ind_uri)\n",
    "classesAndIndividuals_precision_olafNoLLM = common_classes_ind_pizza_olaf_no_llm/len(olaf_no_llm_classes_ind_uri)\n",
    "\n",
    "classesAndIndividuals_recall_text2owl = common_classes_ind_pizza_text2owl/len(pizza_onto_classes_ind_uri)\n",
    "classesAndIndividuals_recall_olafLLM = common_classes_ind_pizza_olaf_llm/len(pizza_onto_classes_ind_uri)\n",
    "classesAndIndividuals_recall_olafNoLLM = common_classes_ind_pizza_olaf_no_llm/len(pizza_onto_classes_ind_uri)\n",
    "\n",
    "objectProperties_precision_text2owl = common_obj_prop_pizza_text2owl/len(pizza_onto_obj_prop_uri)\n",
    "objectProperties_precision_olafLLM = common_obj_prop_pizza_olaf_llm/len(olaf_llm_obj_prop_uri)\n",
    "objectProperties_precision_olafNoLLM = common_obj_prop_pizza_olaf_no_llm/len(olaf_no_llm_obj_prop_uri)\n",
    "\n",
    "objectProperties_recall_text2owl = common_obj_prop_pizza_text2owl/len(llm_text2owl_obj_prop_uri)\n",
    "objectProperties_recall_olafLLM = common_obj_prop_pizza_olaf_llm/len(pizza_onto_obj_prop_uri)\n",
    "objectProperties_recall_olafNoLLM = common_obj_prop_pizza_olaf_no_llm/len(pizza_onto_obj_prop_uri)\n",
    "\n",
    "subClassOfPairs_precision_text2owl = common_sub_pizza_text2owl/len(llm_text2owl_sub_uri)\n",
    "subClassOfPairs_precision_olafLLM = common_sub_pizza_olaf_llm/len(olaf_llm_sub_uri)\n",
    "subClassOfPairs_precision_olafNoLLM = common_sub_pizza_olaf_no_llm/len(olaf_no_llm_sub_uri)\n",
    "\n",
    "subClassOfPairs_recall_text2owl = common_sub_pizza_text2owl/len(pizza_onto_sub_uri)\n",
    "subClassOfPairs_recall_olafLLM = common_sub_pizza_olaf_llm/len(pizza_onto_sub_uri)\n",
    "subClassOfPairs_recall_olafNoLLM = common_sub_pizza_olaf_no_llm/len(pizza_onto_sub_uri)"
   ]
  },
  {
   "cell_type": "code",
   "execution_count": 47,
   "metadata": {},
   "outputs": [],
   "source": [
    "def f1_score(precision, recall) -> float:\n",
    "    if precision + recall == 0:\n",
    "        return 0\n",
    "    else:\n",
    "        return 2*(precision * recall) / (precision + recall)"
   ]
  },
  {
   "cell_type": "code",
   "execution_count": 48,
   "metadata": {},
   "outputs": [],
   "source": [
    "onto_evaluation = {\n",
    "    \"Metrics\": [\n",
    "        \"Classes precision\", \n",
    "        \"Classes recall\", \n",
    "        \"Classes F1-score\",\n",
    "        \"Individuals precision\", \n",
    "        \"Individuals recall\", \n",
    "        \"Individuals F1-score\",\n",
    "        \"Classes and individuals precision\", \n",
    "        \"Classes and individuals recall\", \n",
    "        \"Classes and individuals F1-score\",\n",
    "        \"Object properties precision\", \n",
    "        \"Object properties recall\", \n",
    "        \"Object properties F1-score\",\n",
    "        \"SubClassOf pairs precision\", \n",
    "        \"SubClassOf pairs recall\",\n",
    "        \"SubClassOf pairs F1-score\"\n",
    "    ],\n",
    "    \"Text to OWL\": [\n",
    "        classes_precision_text2owl, \n",
    "        classes_recall_text2owl, \n",
    "        f1_score(classes_precision_text2owl, classes_recall_text2owl),\n",
    "        individuals_precision_text2owl,\n",
    "        individuals_recall_text2owl, \n",
    "        f1_score(individuals_precision_text2owl, individuals_recall_text2owl),\n",
    "        classesAndIndividuals_precision_text2owl, \n",
    "        classesAndIndividuals_recall_text2owl, \n",
    "        f1_score(classesAndIndividuals_precision_text2owl, classesAndIndividuals_recall_text2owl),\n",
    "        objectProperties_precision_text2owl, \n",
    "        objectProperties_recall_text2owl, \n",
    "        f1_score(objectProperties_precision_text2owl, objectProperties_recall_text2owl),\n",
    "        subClassOfPairs_precision_text2owl, \n",
    "        subClassOfPairs_recall_text2owl,\n",
    "        f1_score(subClassOfPairs_precision_text2owl, subClassOfPairs_recall_text2owl,)\n",
    "    ],\n",
    "    \"OLAF LLM\": [\n",
    "        classes_precision_olafLLM, \n",
    "        classes_recall_olafLLM, \n",
    "        f1_score(classes_precision_olafLLM, classes_recall_olafLLM),\n",
    "        individuals_precision_olafLLM, \n",
    "        individuals_recall_olafLLM, \n",
    "        f1_score(individuals_precision_olafLLM, individuals_recall_olafLLM),\n",
    "        classesAndIndividuals_precision_olafLLM, \n",
    "        classesAndIndividuals_recall_olafLLM, \n",
    "        f1_score(classesAndIndividuals_precision_olafLLM, classesAndIndividuals_recall_olafLLM),\n",
    "        objectProperties_precision_olafLLM, \n",
    "        objectProperties_recall_olafLLM, \n",
    "        f1_score(objectProperties_precision_olafLLM, objectProperties_recall_olafLLM),\n",
    "        subClassOfPairs_precision_olafLLM,\n",
    "        subClassOfPairs_recall_olafLLM,\n",
    "        f1_score(subClassOfPairs_precision_olafLLM, subClassOfPairs_recall_olafLLM)\n",
    "    ],\n",
    "    \"OLAF no LLM\": [\n",
    "        classes_precision_olafNoLLM,\n",
    "        classes_recall_olafNoLLM,\n",
    "        f1_score(classes_precision_olafNoLLM, classes_recall_olafNoLLM),\n",
    "        individuals_precision_olafNoLLM,\n",
    "        individuals_recall_olafNoLLM,\n",
    "        f1_score(individuals_precision_olafNoLLM, individuals_recall_olafNoLLM),\n",
    "        classesAndIndividuals_precision_olafNoLLM,\n",
    "        classesAndIndividuals_recall_olafNoLLM,\n",
    "        f1_score(classesAndIndividuals_precision_olafNoLLM, classesAndIndividuals_recall_olafNoLLM),\n",
    "        objectProperties_precision_olafNoLLM,\n",
    "        objectProperties_recall_olafNoLLM,\n",
    "        f1_score(objectProperties_precision_olafNoLLM, objectProperties_recall_olafNoLLM),\n",
    "        subClassOfPairs_precision_olafNoLLM,\n",
    "        subClassOfPairs_recall_olafNoLLM,\n",
    "        f1_score(subClassOfPairs_precision_olafNoLLM, subClassOfPairs_recall_olafNoLLM)\n",
    "    ]\n",
    "}\n",
    "\n",
    "df_evaluation = pd.DataFrame(onto_evaluation)"
   ]
  },
  {
   "cell_type": "code",
   "execution_count": 49,
   "metadata": {},
   "outputs": [
    {
     "data": {
      "text/html": [
       "<div>\n",
       "<style scoped>\n",
       "    .dataframe tbody tr th:only-of-type {\n",
       "        vertical-align: middle;\n",
       "    }\n",
       "\n",
       "    .dataframe tbody tr th {\n",
       "        vertical-align: top;\n",
       "    }\n",
       "\n",
       "    .dataframe thead th {\n",
       "        text-align: right;\n",
       "    }\n",
       "</style>\n",
       "<table border=\"1\" class=\"dataframe\">\n",
       "  <thead>\n",
       "    <tr style=\"text-align: right;\">\n",
       "      <th></th>\n",
       "      <th>Metrics</th>\n",
       "      <th>Text to OWL</th>\n",
       "      <th>OLAF LLM</th>\n",
       "      <th>OLAF no LLM</th>\n",
       "    </tr>\n",
       "  </thead>\n",
       "  <tbody>\n",
       "    <tr>\n",
       "      <th>0</th>\n",
       "      <td>Classes precision</td>\n",
       "      <td>1.000000</td>\n",
       "      <td>0.567010</td>\n",
       "      <td>0.387387</td>\n",
       "    </tr>\n",
       "    <tr>\n",
       "      <th>1</th>\n",
       "      <td>Classes recall</td>\n",
       "      <td>0.378947</td>\n",
       "      <td>0.578947</td>\n",
       "      <td>0.452632</td>\n",
       "    </tr>\n",
       "    <tr>\n",
       "      <th>2</th>\n",
       "      <td>Classes F1-score</td>\n",
       "      <td>0.549618</td>\n",
       "      <td>0.572917</td>\n",
       "      <td>0.417476</td>\n",
       "    </tr>\n",
       "    <tr>\n",
       "      <th>3</th>\n",
       "      <td>Individuals precision</td>\n",
       "      <td>0.000000</td>\n",
       "      <td>0.010526</td>\n",
       "      <td>0.005848</td>\n",
       "    </tr>\n",
       "    <tr>\n",
       "      <th>4</th>\n",
       "      <td>Individuals recall</td>\n",
       "      <td>0.000000</td>\n",
       "      <td>0.200000</td>\n",
       "      <td>0.400000</td>\n",
       "    </tr>\n",
       "    <tr>\n",
       "      <th>5</th>\n",
       "      <td>Individuals F1-score</td>\n",
       "      <td>0.000000</td>\n",
       "      <td>0.020000</td>\n",
       "      <td>0.011527</td>\n",
       "    </tr>\n",
       "    <tr>\n",
       "      <th>6</th>\n",
       "      <td>Classes and individuals precision</td>\n",
       "      <td>0.539683</td>\n",
       "      <td>0.556701</td>\n",
       "      <td>0.130243</td>\n",
       "    </tr>\n",
       "    <tr>\n",
       "      <th>7</th>\n",
       "      <td>Classes and individuals recall</td>\n",
       "      <td>0.239437</td>\n",
       "      <td>0.380282</td>\n",
       "      <td>0.415493</td>\n",
       "    </tr>\n",
       "    <tr>\n",
       "      <th>8</th>\n",
       "      <td>Classes and individuals F1-score</td>\n",
       "      <td>0.331707</td>\n",
       "      <td>0.451883</td>\n",
       "      <td>0.198319</td>\n",
       "    </tr>\n",
       "    <tr>\n",
       "      <th>9</th>\n",
       "      <td>Object properties precision</td>\n",
       "      <td>0.250000</td>\n",
       "      <td>0.064935</td>\n",
       "      <td>0.136364</td>\n",
       "    </tr>\n",
       "    <tr>\n",
       "      <th>10</th>\n",
       "      <td>Object properties recall</td>\n",
       "      <td>1.000000</td>\n",
       "      <td>0.625000</td>\n",
       "      <td>0.375000</td>\n",
       "    </tr>\n",
       "    <tr>\n",
       "      <th>11</th>\n",
       "      <td>Object properties F1-score</td>\n",
       "      <td>0.400000</td>\n",
       "      <td>0.117647</td>\n",
       "      <td>0.200000</td>\n",
       "    </tr>\n",
       "    <tr>\n",
       "      <th>12</th>\n",
       "      <td>SubClassOf pairs precision</td>\n",
       "      <td>0.515152</td>\n",
       "      <td>0.236842</td>\n",
       "      <td>0.011583</td>\n",
       "    </tr>\n",
       "    <tr>\n",
       "      <th>13</th>\n",
       "      <td>SubClassOf pairs recall</td>\n",
       "      <td>0.066148</td>\n",
       "      <td>0.105058</td>\n",
       "      <td>0.023346</td>\n",
       "    </tr>\n",
       "    <tr>\n",
       "      <th>14</th>\n",
       "      <td>SubClassOf pairs F1-score</td>\n",
       "      <td>0.117241</td>\n",
       "      <td>0.145553</td>\n",
       "      <td>0.015484</td>\n",
       "    </tr>\n",
       "  </tbody>\n",
       "</table>\n",
       "</div>"
      ],
      "text/plain": [
       "                              Metrics  Text to OWL  OLAF LLM  OLAF no LLM\n",
       "0                   Classes precision     1.000000  0.567010     0.387387\n",
       "1                      Classes recall     0.378947  0.578947     0.452632\n",
       "2                    Classes F1-score     0.549618  0.572917     0.417476\n",
       "3               Individuals precision     0.000000  0.010526     0.005848\n",
       "4                  Individuals recall     0.000000  0.200000     0.400000\n",
       "5                Individuals F1-score     0.000000  0.020000     0.011527\n",
       "6   Classes and individuals precision     0.539683  0.556701     0.130243\n",
       "7      Classes and individuals recall     0.239437  0.380282     0.415493\n",
       "8    Classes and individuals F1-score     0.331707  0.451883     0.198319\n",
       "9         Object properties precision     0.250000  0.064935     0.136364\n",
       "10           Object properties recall     1.000000  0.625000     0.375000\n",
       "11         Object properties F1-score     0.400000  0.117647     0.200000\n",
       "12         SubClassOf pairs precision     0.515152  0.236842     0.011583\n",
       "13            SubClassOf pairs recall     0.066148  0.105058     0.023346\n",
       "14          SubClassOf pairs F1-score     0.117241  0.145553     0.015484"
      ]
     },
     "execution_count": 49,
     "metadata": {},
     "output_type": "execute_result"
    }
   ],
   "source": [
    "df_evaluation"
   ]
  }
 ],
 "metadata": {
  "kernelspec": {
   "display_name": "olaf-eswc-venv",
   "language": "python",
   "name": "python3"
  },
  "language_info": {
   "codemirror_mode": {
    "name": "ipython",
    "version": 3
   },
   "file_extension": ".py",
   "mimetype": "text/x-python",
   "name": "python",
   "nbconvert_exporter": "python",
   "pygments_lexer": "ipython3",
   "version": "3.10.12"
  }
 },
 "nbformat": 4,
 "nbformat_minor": 2
}
